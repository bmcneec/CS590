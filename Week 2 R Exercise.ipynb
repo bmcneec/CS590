{
 "cells": [
  {
   "cell_type": "code",
   "execution_count": null,
   "metadata": {},
   "outputs": [],
   "source": [
    "# What is two to the power of five?\n",
    "2^5\n",
    "2**5\n",
    "\n",
    "# Create a vector called peanut.weight with the following data points:\n",
    "# 89.4, 78.2, 91.4, 95.2, 105.5\n",
    "    peanut.weight <- c(89.4, 78.2, 91.4, 95.2, 105.5)\n",
    "\n",
    "# Assign the following names (in order) to the peanut.weight vector:\n",
    "# Sullivan, Bailey, Bailey II, Emery, Wynne\n",
    "names(peanut.weight) <- c('Sullivan', 'Bailey', 'Bailey II', 'Emery', 'Wynne')\n",
    "\n",
    "peanut.weight\n",
    "mean(peanut.weight)\n",
    "\n",
    "over.90 <- peanut.weight[peanut.weight>90]\n",
    "\n",
    "over.90\n",
    "\n",
    "min(over.90)\n",
    "\n",
    "Cultivar <- \"Bailey\"\n",
    "Weight <- \"91.4 grams per 100 seeds\"\n",
    "sprintf('The cultivar %s has a seed weight of %s', Cultivar, Weight)\n"
   ]
  }
 ],
 "metadata": {
  "kernelspec": {
   "display_name": "R",
   "language": "R",
   "name": "ir"
  },
  "language_info": {
   "codemirror_mode": "r",
   "file_extension": ".r",
   "mimetype": "text/x-r-source",
   "name": "R",
   "pygments_lexer": "r",
   "version": "3.6.1"
  }
 },
 "nbformat": 4,
 "nbformat_minor": 2
}
